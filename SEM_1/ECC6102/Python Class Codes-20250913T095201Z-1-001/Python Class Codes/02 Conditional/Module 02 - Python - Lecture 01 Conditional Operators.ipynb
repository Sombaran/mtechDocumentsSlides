{
 "cells": [
  {
   "cell_type": "code",
   "execution_count": 1,
   "metadata": {
    "id": "REiKCnhM5uxb"
   },
   "outputs": [
    {
     "ename": "SyntaxError",
     "evalue": "invalid syntax (2188306030.py, line 4)",
     "output_type": "error",
     "traceback": [
      "\u001b[0;36m  Cell \u001b[0;32mIn[1], line 4\u001b[0;36m\u001b[0m\n\u001b[0;31m    if (c > 45 && d < 56)\u001b[0m\n\u001b[0m                ^\u001b[0m\n\u001b[0;31mSyntaxError\u001b[0m\u001b[0;31m:\u001b[0m invalid syntax\n"
     ]
    }
   ],
   "source": [
    "c = 50\n",
    "d = 10\n",
    "a = 40\n",
    "if (c > 45 && d < 56)\n",
    "{\n",
    "      if(a>5)\n",
    "      {\n",
    "          Statement 6;\n",
    "          Statement 7;\n",
    "      }\n",
    "  Statement 1;\n",
    "  Statement 2;\n",
    "  Statement 3;\n",
    "}\n"
   ]
  },
  {
   "cell_type": "code",
   "execution_count": 2,
   "metadata": {
    "colab": {
     "base_uri": "https://localhost:8080/"
    },
    "executionInfo": {
     "elapsed": 25,
     "status": "ok",
     "timestamp": 1757757033043,
     "user": {
      "displayName": "Mayank Agarwal",
      "userId": "13393457672673408875"
     },
     "user_tz": -330
    },
    "id": "OhS74RRT3-vW",
    "outputId": "ea46e9c7-c130-41ad-e689-571aa1c76894"
   },
   "outputs": [
    {
     "name": "stdout",
     "output_type": "stream",
     "text": [
      "Start  of Program\n",
      "Positive\n",
      "Positive Number\n",
      "Today is Sunday\n",
      "Hi There\n",
      "Hi There\n",
      "End of Program\n"
     ]
    }
   ],
   "source": [
    "#1. Check if a number is positive or negative:\n",
    "print(\"Start  of Program\") # No indentation\n",
    "\n",
    "num = 16\n",
    "if num >= 0:\n",
    "    print(\"Positive\")\n",
    "    print(\"Positive Number\")\n",
    "    print(\"Today is Sunday\")\n",
    "    print(\"Hi There\")\n",
    "\n",
    "else:\n",
    "    print(\"Negative\")\n",
    "    print(\"Negative Number\")\n",
    "    print(\"Today is Holiday\")\n",
    "\n",
    "print(\"Hi There\")\n",
    "\n",
    "print(\"End of Program\") # No indentation"
   ]
  },
  {
   "cell_type": "code",
   "execution_count": null,
   "metadata": {
    "colab": {
     "base_uri": "https://localhost:8080/"
    },
    "executionInfo": {
     "elapsed": 28,
     "status": "ok",
     "timestamp": 1751273833861,
     "user": {
      "displayName": "Mayank Agarwal",
      "userId": "13393457672673408875"
     },
     "user_tz": -330
    },
    "id": "CCYpHyfy6JgO",
    "outputId": "4d5773ac-c5eb-415a-fb14-bde31924ef80"
   },
   "outputs": [
    {
     "name": "stdout",
     "output_type": "stream",
     "text": [
      "3.11.13 (main, Jun  4 2025, 08:57:29) [GCC 11.4.0]\n"
     ]
    }
   ],
   "source": [
    "import sys\n",
    "print(sys.version)"
   ]
  },
  {
   "cell_type": "code",
   "execution_count": null,
   "metadata": {
    "colab": {
     "base_uri": "https://localhost:8080/"
    },
    "executionInfo": {
     "elapsed": 25,
     "status": "ok",
     "timestamp": 1751273892180,
     "user": {
      "displayName": "Mayank Agarwal",
      "userId": "13393457672673408875"
     },
     "user_tz": -330
    },
    "id": "oOiJRkNm4oW1",
    "outputId": "67eae7ba-27bf-498a-f7f0-8afd0514fbb9"
   },
   "outputs": [
    {
     "name": "stdout",
     "output_type": "stream",
     "text": [
      "Odd\n"
     ]
    }
   ],
   "source": [
    "#2. Check if a number is even or odd:\n",
    "\n",
    "num = 55\n",
    "if num % 2 == 0:\n",
    "\tprint(\"Even\")\n",
    "else:\n",
    "\tprint(\"Odd\")"
   ]
  },
  {
   "cell_type": "code",
   "execution_count": null,
   "metadata": {
    "colab": {
     "base_uri": "https://localhost:8080/"
    },
    "executionInfo": {
     "elapsed": 16,
     "status": "ok",
     "timestamp": 1751273945931,
     "user": {
      "displayName": "Mayank Agarwal",
      "userId": "13393457672673408875"
     },
     "user_tz": -330
    },
    "id": "bhXmE4Ao4pAb",
    "outputId": "c9bb06c4-ea29-4b56-8513-62c7f12e8bf1"
   },
   "outputs": [
    {
     "name": "stdout",
     "output_type": "stream",
     "text": [
      "The number b is greater than a\n",
      "The value of a = 88 and the value of b = 131\n"
     ]
    }
   ],
   "source": [
    "#3. Find the largest of two numbers:\n",
    "\n",
    "a, b = 88, 131\n",
    "\n",
    "if a > b:\n",
    "  print(\"The number a is greater than b\")\n",
    "  print(f\"The value of a = {a} and the value of b = {b}\")\n",
    "else:\n",
    "  print(\"The number b is greater than a\")\n",
    "  print(f\"The value of a = {a} and the value of b = {b}\")\n"
   ]
  },
  {
   "cell_type": "code",
   "execution_count": null,
   "metadata": {
    "colab": {
     "base_uri": "https://localhost:8080/"
    },
    "executionInfo": {
     "elapsed": 19,
     "status": "ok",
     "timestamp": 1740908671734,
     "user": {
      "displayName": "Mayank Agarwal",
      "userId": "13393457672673408875"
     },
     "user_tz": -330
    },
    "id": "UgEdkkfG5Cjv",
    "outputId": "e2d682bf-80df-4feb-b958-70ab0510525f"
   },
   "outputs": [
    {
     "name": "stdout",
     "output_type": "stream",
     "text": [
      "Not eligible to vote\n"
     ]
    }
   ],
   "source": [
    "#4. Check if a person is eligible to vote:\n",
    "\n",
    "age = 15\n",
    "if age >= 18:\n",
    "\tprint(\"Eligible to vote\")\n",
    "else:\n",
    "\tprint(\"Not eligible to vote\")"
   ]
  },
  {
   "cell_type": "code",
   "execution_count": null,
   "metadata": {
    "colab": {
     "base_uri": "https://localhost:8080/"
    },
    "executionInfo": {
     "elapsed": 5,
     "status": "ok",
     "timestamp": 1751274052312,
     "user": {
      "displayName": "Mayank Agarwal",
      "userId": "13393457672673408875"
     },
     "user_tz": -330
    },
    "id": "9tXNLrUX5JbJ",
    "outputId": "0983347a-02c5-4c55-8a3d-a7b71ffdd1bf"
   },
   "outputs": [
    {
     "name": "stdout",
     "output_type": "stream",
     "text": [
      "Consonant\n"
     ]
    }
   ],
   "source": [
    "#5. Check if a character is a vowel:\n",
    "\n",
    "char = 'x'\n",
    "if char in 'aeiouAEIOU':\n",
    "\tprint(\"Vowel\")\n",
    "else:\n",
    "\tprint(\"Consonant\")"
   ]
  },
  {
   "cell_type": "code",
   "execution_count": null,
   "metadata": {
    "colab": {
     "base_uri": "https://localhost:8080/"
    },
    "executionInfo": {
     "elapsed": 15,
     "status": "ok",
     "timestamp": 1740908724851,
     "user": {
      "displayName": "Mayank Agarwal",
      "userId": "13393457672673408875"
     },
     "user_tz": -330
    },
    "id": "9Q_Fig5S5L_5",
    "outputId": "eff0cd1c-cb1f-4d43-c222-719a2b6477e2"
   },
   "outputs": [
    {
     "name": "stdout",
     "output_type": "stream",
     "text": [
      "Divisible by 5\n"
     ]
    }
   ],
   "source": [
    "#6. Check if a number is divisible by 5:\n",
    "\n",
    "num = 25\n",
    "if num % 5 == 0:\n",
    "\tprint(\"Divisible by 5\")\n",
    "else:\n",
    "\tprint(\"Not divisible by 5\")\n"
   ]
  },
  {
   "cell_type": "code",
   "execution_count": null,
   "metadata": {
    "colab": {
     "base_uri": "https://localhost:8080/"
    },
    "executionInfo": {
     "elapsed": 6,
     "status": "ok",
     "timestamp": 1751274306024,
     "user": {
      "displayName": "Mayank Agarwal",
      "userId": "13393457672673408875"
     },
     "user_tz": -330
    },
    "id": "bc-hqYE35RFI",
    "outputId": "e6d08172-b81b-4476-aab1-ce3ec52ee4d7"
   },
   "outputs": [
    {
     "name": "stdout",
     "output_type": "stream",
     "text": [
      "Leap year\n"
     ]
    }
   ],
   "source": [
    "#7. Check if a year is a leap year:\n",
    "\n",
    "year = 2000\n",
    "if (year % 4 == 0 and year % 100 != 0) or (year % 400 == 0):\n",
    "\tprint(\"Leap year\")\n",
    "else:\n",
    "\tprint(\"Not a leap year\")"
   ]
  },
  {
   "cell_type": "code",
   "execution_count": null,
   "metadata": {
    "colab": {
     "base_uri": "https://localhost:8080/"
    },
    "executionInfo": {
     "elapsed": 462,
     "status": "ok",
     "timestamp": 1725368171824,
     "user": {
      "displayName": "Mayank Agarwal",
      "userId": "13393457672673408875"
     },
     "user_tz": -330
    },
    "id": "9lBCtZ5o5VCw",
    "outputId": "f7a6a69d-4d95-410b-b983-31b85da06911"
   },
   "outputs": [
    {
     "name": "stdout",
     "output_type": "stream",
     "text": [
      "Palindrome\n"
     ]
    }
   ],
   "source": [
    "#8. Check if a string is a palindrome:\n",
    "\n",
    "s = \"radar\"\n",
    "if s[::1] == s[::-1]:\n",
    "\tprint(\"Palindrome\")\n",
    "else:\n",
    "\tprint(\"Not a palindrome\")\n"
   ]
  },
  {
   "cell_type": "code",
   "execution_count": null,
   "metadata": {
    "colab": {
     "base_uri": "https://localhost:8080/"
    },
    "executionInfo": {
     "elapsed": 23,
     "status": "ok",
     "timestamp": 1751274650671,
     "user": {
      "displayName": "Mayank Agarwal",
      "userId": "13393457672673408875"
     },
     "user_tz": -330
    },
    "id": "7vm3L3jYAHrU",
    "outputId": "c48c8a55-2e32-413a-a01d-3c066e70a2b0"
   },
   "outputs": [
    {
     "name": "stdout",
     "output_type": "stream",
     "text": [
      "[5, 4, 3, 2, 1]\n",
      "[1, 2, 3, 4, 5]\n",
      "['r', 'a', 'd', 'a', 'r']\n",
      "['r', 'a', 'd', 'a', 'r']\n"
     ]
    }
   ],
   "source": [
    "s = [1, 2, 3, 4, 5]\n",
    "print(s[::-1])  # Output: [5, 4, 3, 2, 1]\n",
    "print(s[::1])\n",
    "\n",
    "s = ['r','a','d','a','r']\n",
    "print(s[::-1])  # Output: [5, 4, 3, 2, 1]\n",
    "print(s[::1])"
   ]
  },
  {
   "cell_type": "code",
   "execution_count": null,
   "metadata": {
    "colab": {
     "base_uri": "https://localhost:8080/"
    },
    "executionInfo": {
     "elapsed": 4473,
     "status": "ok",
     "timestamp": 1740909106315,
     "user": {
      "displayName": "Mayank Agarwal",
      "userId": "13393457672673408875"
     },
     "user_tz": -330
    },
    "id": "eqtnYP595Z1i",
    "outputId": "3820bb97-b781-41ec-a646-bd4b481d2064"
   },
   "outputs": [
    {
     "name": "stdout",
     "output_type": "stream",
     "text": [
      "Enter the first number: 30\n",
      "Enter the second number: 20\n",
      "Enter the third number: 10\n",
      "The smallest number is: 10\n"
     ]
    }
   ],
   "source": [
    "#9. Find the smallest of three numbers:\n",
    "num1 = int(input(\"Enter the first number: \"))  #10\n",
    "num2 = int(input(\"Enter the second number: \"))  #20\n",
    "num3 = int(input(\"Enter the third number: \"))  #5\n",
    "\n",
    "# Find the smallest number\n",
    "smallest = num1  #smallest = 10\n",
    "if num2 < smallest:  #20 < 10\n",
    "    smallest = num2\n",
    "if num3 < smallest:  #30 < 10 #True\n",
    "    smallest = num3\n",
    "\n",
    "# Print the smallest number\n",
    "print(\"The smallest number is:\", smallest)\n"
   ]
  },
  {
   "cell_type": "code",
   "execution_count": null,
   "metadata": {
    "colab": {
     "base_uri": "https://localhost:8080/"
    },
    "executionInfo": {
     "elapsed": 10,
     "status": "ok",
     "timestamp": 1740909571237,
     "user": {
      "displayName": "Mayank Agarwal",
      "userId": "13393457672673408875"
     },
     "user_tz": -330
    },
    "id": "7Y7g9MoVB80D",
    "outputId": "5d51119a-6676-4081-db4f-55ff33339a8e"
   },
   "outputs": [
    {
     "name": "stdout",
     "output_type": "stream",
     "text": [
      "Not Equal\n"
     ]
    }
   ],
   "source": [
    "#diffrence between = & == & ===\n",
    "\n",
    "# = ---> Assignment\n",
    "\n",
    "a = 4\n",
    "b = 40\n",
    "c = \"India\"\n",
    "# == ---> Comparison\n",
    "\n",
    "if a == b:\n",
    "  print(\"Equal\")\n",
    "else:\n",
    "  print(\"Not Equal\")\n",
    "\n",
    "\n"
   ]
  },
  {
   "cell_type": "markdown",
   "metadata": {
    "id": "60Ud7wMOCtGT"
   },
   "source": [
    "In Python, =, ==, and === are used for different purposes:\n",
    "\n",
    "1. = (Assignment Operator):\n",
    "    - Used to assign a value to a variable.\n",
    "    - Example: x = 5 assigns the value 5 to the variable x.\n",
    "2. == (Equality Operator):\n",
    "    - Used to compare two values for equality.\n",
    "    - Returns True if the values are equal, and False otherwise.\n",
    "    - Example: x == 5 checks if the value of x is equal to 5.\n",
    "3. === (Not available in Python):\n",
    "    - This operator is not available in Python. It's commonly used in other languages like JavaScript for strict equality checking (i.e., checking both value and data type).\n",
    "\n",
    "In Python, the == operator is sufficient for equality checking, and it's not necessary to use === like in other languages.\n",
    "\n",
    "Here's a summary:\n",
    "\n",
    "- =: Assign a value to a variable.\n",
    "- ==: Check if two values are equal.\n",
    "\n",
    "Example code:\n",
    "\n",
    "x = 5  # assignment\n",
    "print(x == 5)  # equality check, returns True\n",
    "print(x == 3)  # equality check, returns False\n"
   ]
  },
  {
   "cell_type": "code",
   "execution_count": null,
   "metadata": {
    "colab": {
     "base_uri": "https://localhost:8080/"
    },
    "executionInfo": {
     "elapsed": 52,
     "status": "ok",
     "timestamp": 1751276135454,
     "user": {
      "displayName": "Mayank Agarwal",
      "userId": "13393457672673408875"
     },
     "user_tz": -330
    },
    "id": "_PbcCgJOC0oh",
    "outputId": "d8e5f76f-4d90-4b15-fe9f-30e77484c972"
   },
   "outputs": [
    {
     "name": "stdout",
     "output_type": "stream",
     "text": [
      "b is the greatest\n"
     ]
    }
   ],
   "source": [
    "a,b,c = 1,20,3\n",
    "\n",
    "if a>b and a>c:\n",
    "  print(\"a is the greatest\")\n",
    "elif b>a and b>c:\n",
    "  print(\"b is the greatest\")\n",
    "elif a==1:\n",
    "  print(\"b is the greatest\")\n",
    "else:\n",
    "  print(\"c is the greatest\")\n"
   ]
  },
  {
   "cell_type": "code",
   "execution_count": null,
   "metadata": {
    "id": "XnTirsEDDTlx"
   },
   "outputs": [],
   "source": [
    "# Truth Table for OR\n",
    "\n",
    "# A\tB\tA or B\n",
    "# True\tTrue\tTrue\n",
    "# True\tFalse\tTrue\n",
    "# False\tTrue\tTrue\n",
    "# False\tFalse\tFalse"
   ]
  },
  {
   "cell_type": "code",
   "execution_count": null,
   "metadata": {
    "colab": {
     "base_uri": "https://localhost:8080/"
    },
    "executionInfo": {
     "elapsed": 15,
     "status": "ok",
     "timestamp": 1740909685510,
     "user": {
      "displayName": "Mayank Agarwal",
      "userId": "13393457672673408875"
     },
     "user_tz": -330
    },
    "id": "88lftXBt5eJL",
    "outputId": "0659c479-48bf-4cf9-fed2-fd6c53a40e9a"
   },
   "outputs": [
    {
     "name": "stdout",
     "output_type": "stream",
     "text": [
      "Within range\n"
     ]
    }
   ],
   "source": [
    "#10. Check if a number is within a range:\n",
    "\n",
    "num = 55\n",
    "if 10 <= num <= 100:\n",
    "\tprint(\"Within range\")\n",
    "else:\n",
    "\tprint(\"Out of range\")"
   ]
  },
  {
   "cell_type": "code",
   "execution_count": null,
   "metadata": {
    "colab": {
     "base_uri": "https://localhost:8080/"
    },
    "executionInfo": {
     "elapsed": 48,
     "status": "ok",
     "timestamp": 1751276318322,
     "user": {
      "displayName": "Mayank Agarwal",
      "userId": "13393457672673408875"
     },
     "user_tz": -330
    },
    "id": "9iSakpXb5y2H",
    "outputId": "088ab951-ec6c-4bc6-ff71-e1b4579f77c6"
   },
   "outputs": [
    {
     "name": "stdout",
     "output_type": "stream",
     "text": [
      "List is empty\n"
     ]
    }
   ],
   "source": [
    "#11. Check if a list is empty:\n",
    "\n",
    "lst = []\n",
    "if not lst:\n",
    "\tprint(\"List is empty\")\n",
    "else:\n",
    "\tprint(\"List is not empty\")\n"
   ]
  },
  {
   "cell_type": "code",
   "execution_count": null,
   "metadata": {
    "colab": {
     "base_uri": "https://localhost:8080/"
    },
    "executionInfo": {
     "elapsed": 8,
     "status": "ok",
     "timestamp": 1751276341633,
     "user": {
      "displayName": "Mayank Agarwal",
      "userId": "13393457672673408875"
     },
     "user_tz": -330
    },
    "id": "NDoFHGiEFcvc",
    "outputId": "6bf0a5b4-5b64-41c7-c0a9-244a86df80a2"
   },
   "outputs": [
    {
     "name": "stdout",
     "output_type": "stream",
     "text": [
      "(0, 0) <class 'tuple'>\n",
      "Not empty\n"
     ]
    }
   ],
   "source": [
    "lst = 0, 0\n",
    "print(lst, type(lst))\n",
    "if not lst:\n",
    "  print(\"Empty\")\n",
    "else:\n",
    "  print(\"Not empty\")\n"
   ]
  },
  {
   "cell_type": "code",
   "execution_count": null,
   "metadata": {
    "id": "qBNgjwpYFfhB"
   },
   "outputs": [],
   "source": []
  },
  {
   "cell_type": "code",
   "execution_count": null,
   "metadata": {
    "colab": {
     "base_uri": "https://localhost:8080/"
    },
    "executionInfo": {
     "elapsed": 7,
     "status": "ok",
     "timestamp": 1740909916332,
     "user": {
      "displayName": "Mayank Agarwal",
      "userId": "13393457672673408875"
     },
     "user_tz": -330
    },
    "id": "Vw4xEtFd6ZuQ",
    "outputId": "3e14d198-2550-4057-e420-a9b1e8974919"
   },
   "outputs": [
    {
     "name": "stdout",
     "output_type": "stream",
     "text": [
      "Multiple of both 3 and 7\n"
     ]
    }
   ],
   "source": [
    "#12. Check if a number is a multiple of both 3 and 7:\n",
    "\n",
    "num = 21\n",
    "if num % 3 == 0 and num % 7 == 0:\n",
    "\tprint(\"Multiple of both 3 and 7\")\n",
    "else:\n",
    "\tprint(\"Not a multiple of both 3 and 7\")"
   ]
  },
  {
   "cell_type": "code",
   "execution_count": null,
   "metadata": {
    "colab": {
     "base_uri": "https://localhost:8080/"
    },
    "executionInfo": {
     "elapsed": 236,
     "status": "ok",
     "timestamp": 1751276705436,
     "user": {
      "displayName": "Mayank Agarwal",
      "userId": "13393457672673408875"
     },
     "user_tz": -330
    },
    "id": "MCv5OOhe6jiF",
    "outputId": "ca74ea58-ef3a-49fc-adb2-47c1e5f01891"
   },
   "outputs": [
    {
     "name": "stdout",
     "output_type": "stream",
     "text": [
      "Anagrams\n",
      "['e', 'i', 'l', 'n', 's', 't']\n",
      "silent\n",
      "Not anagrams\n"
     ]
    }
   ],
   "source": [
    "#13. Check if two strings are anagrams:\n",
    "# 1. Listen - Silent\n",
    "# 2. Acts - Cats\n",
    "# 3. Weird - Wired\n",
    "# 4. Smile - Limes\n",
    "# 5. Tea - Eat\n",
    "\n",
    "#  - Heart - Earth\n",
    "# - Elvis - Lives\n",
    "# - Teams - Meats\n",
    "# - Cider - Cried\n",
    "\n",
    "\n",
    "str1, str2 = \"lisTen\", \"Silent\"\n",
    "if sorted(str1.lower()) == sorted(str2.lower()):\n",
    "  print(\"Anagrams\")\n",
    "  print(sorted(str1.lower()))\n",
    "  print(str2.lower())\n",
    "else:\n",
    "  print(\"Not anagrams\")\n",
    "\n",
    "\n",
    "\n",
    "str1, str2 = \"lisTen\", \"Silent\"\n",
    "if sorted(str1) == sorted(str2):\n",
    "\tprint(\"Anagrams\")\n",
    "else:\n",
    "\tprint(\"Not anagrams\")"
   ]
  },
  {
   "cell_type": "code",
   "execution_count": null,
   "metadata": {
    "colab": {
     "base_uri": "https://localhost:8080/"
    },
    "executionInfo": {
     "elapsed": 12,
     "status": "ok",
     "timestamp": 1740910414501,
     "user": {
      "displayName": "Mayank Agarwal",
      "userId": "13393457672673408875"
     },
     "user_tz": -330
    },
    "id": "P5bx0Y4p6qcm",
    "outputId": "56923916-0cf8-4e79-b8c2-e2de9245fd08"
   },
   "outputs": [
    {
     "name": "stdout",
     "output_type": "stream",
     "text": [
      "Not prime num\n"
     ]
    }
   ],
   "source": [
    "#14. Check if a number is prime:\n",
    "\n",
    "num = 310\n",
    "if num > 1:\n",
    "\tfor i in range(2, num):\n",
    "\t\tif num % i == 0:\n",
    "\t\t\tprint(\"Not prime num\")\n",
    "\t\t\tbreak\n",
    "\telse:\n",
    "\t\tprint(\"Prime\")\n",
    "else:\n",
    "\tprint(\"Not prime\")"
   ]
  },
  {
   "cell_type": "code",
   "execution_count": null,
   "metadata": {
    "colab": {
     "base_uri": "https://localhost:8080/"
    },
    "executionInfo": {
     "elapsed": 43,
     "status": "ok",
     "timestamp": 1751276967289,
     "user": {
      "displayName": "Mayank Agarwal",
      "userId": "13393457672673408875"
     },
     "user_tz": -330
    },
    "id": "wqCC4jNF6uXV",
    "outputId": "28769c90-2550-4cf2-f33c-3df67b51937b"
   },
   "outputs": [
    {
     "name": "stdout",
     "output_type": "stream",
     "text": [
      "Loop Exits.\n",
      "Grade: D\n"
     ]
    }
   ],
   "source": [
    "#15. Find the grade based on marks:\n",
    "\n",
    "marks = 90\n",
    "if marks >= 90:\n",
    "\tgrade = 'A'\n",
    "elif marks >= 80:\n",
    "\tgrade = 'B'\n",
    "elif marks >= 70:\n",
    "\tgrade = 'C'\n",
    "elif marks >= 60:\n",
    "\tgrade = 'D'\n",
    "else:\n",
    "\tgrade = 'F'\n",
    "\n",
    "print(\"Loop Exits.\")\n",
    "print(\"Grade:\", grade)"
   ]
  },
  {
   "cell_type": "code",
   "execution_count": null,
   "metadata": {
    "id": "9T03fCHx60jr"
   },
   "outputs": [],
   "source": [
    "#16. Check if a year is in the 21st century:\n",
    "\n",
    "year = 2024\n",
    "if 2001 <= year <= 2100:\n",
    "\tprint(\"21st century\")\n",
    "else:\n",
    "\tprint(\"Not 21st century\")"
   ]
  },
  {
   "cell_type": "code",
   "execution_count": null,
   "metadata": {
    "colab": {
     "base_uri": "https://localhost:8080/"
    },
    "executionInfo": {
     "elapsed": 4,
     "status": "ok",
     "timestamp": 1740910658289,
     "user": {
      "displayName": "Mayank Agarwal",
      "userId": "13393457672673408875"
     },
     "user_tz": -330
    },
    "id": "mN7bNGhM66a_",
    "outputId": "f313440b-fddd-4888-bc90-3c840455b069"
   },
   "outputs": [
    {
     "name": "stdout",
     "output_type": "stream",
     "text": [
      "Contains only digits\n"
     ]
    }
   ],
   "source": [
    "#17. Check if a string contains only digits:\n",
    "\n",
    "s = \"12345\"\n",
    "if s.isdigit():\n",
    "\tprint(\"Contains only digits\")\n",
    "else:\n",
    "\tprint(\"Contains other characters\")"
   ]
  },
  {
   "cell_type": "code",
   "execution_count": null,
   "metadata": {
    "colab": {
     "base_uri": "https://localhost:8080/"
    },
    "executionInfo": {
     "elapsed": 14,
     "status": "ok",
     "timestamp": 1740910705580,
     "user": {
      "displayName": "Mayank Agarwal",
      "userId": "13393457672673408875"
     },
     "user_tz": -330
    },
    "id": "gbQk_6DWH_8R",
    "outputId": "0bfc79b6-1aa8-4391-f1ff-d27cd949de47"
   },
   "outputs": [
    {
     "name": "stdout",
     "output_type": "stream",
     "text": [
      "Two\n"
     ]
    }
   ],
   "source": [
    "x = 2\n",
    "if x == 1:\n",
    "    print(\"One\")\n",
    "\n",
    "elif x == 2:\n",
    "    print(\"Two\")\n",
    "elif x == 3:\n",
    "    print(\"Three\")\n",
    "else:\n",
    "    print(\"Something else\")\n",
    "\n"
   ]
  },
  {
   "cell_type": "code",
   "execution_count": null,
   "metadata": {
    "colab": {
     "base_uri": "https://localhost:8080/"
    },
    "executionInfo": {
     "elapsed": 51,
     "status": "ok",
     "timestamp": 1751277236255,
     "user": {
      "displayName": "Mayank Agarwal",
      "userId": "13393457672673408875"
     },
     "user_tz": -330
    },
    "id": "_W5zkmp3H5BV",
    "outputId": "fce382eb-b445-4f88-f4ba-5cca53be60cd"
   },
   "outputs": [
    {
     "name": "stdout",
     "output_type": "stream",
     "text": [
      "Something else\n"
     ]
    }
   ],
   "source": [
    "# Match-case statement\n",
    "x = 440\n",
    "match x:\n",
    "    case 1:\n",
    "      print(\"One\")\n",
    "    case 2:\n",
    "        print(\"Two\")\n",
    "    case 3:\n",
    "        print(\"Three\")\n",
    "    case 44:\n",
    "        print(\"Case # 44\")\n",
    "    case _:\n",
    "        print(\"Something else\")\n"
   ]
  }
 ],
 "metadata": {
  "colab": {
   "provenance": []
  },
  "kernelspec": {
   "display_name": "Python 3",
   "name": "python3"
  },
  "language_info": {
   "codemirror_mode": {
    "name": "ipython",
    "version": 3
   },
   "file_extension": ".py",
   "mimetype": "text/x-python",
   "name": "python",
   "nbconvert_exporter": "python",
   "pygments_lexer": "ipython3",
   "version": "3.10.12"
  }
 },
 "nbformat": 4,
 "nbformat_minor": 0
}
