{
  "nbformat": 4,
  "nbformat_minor": 0,
  "metadata": {
    "colab": {
      "provenance": []
    },
    "kernelspec": {
      "name": "python3",
      "display_name": "Python 3"
    },
    "language_info": {
      "name": "python"
    }
  },
  "cells": [
    {
      "cell_type": "code",
      "execution_count": 1,
      "metadata": {
        "colab": {
          "base_uri": "https://localhost:8080/"
        },
        "id": "hfNHGUeHIU4G",
        "outputId": "35100723-8035-44ec-b5b7-4f8f7f51b39e"
      },
      "outputs": [
        {
          "output_type": "stream",
          "name": "stdout",
          "text": [
            "2024-08-14 18:23:58.031922\n"
          ]
        }
      ],
      "source": [
        "### 1. **Getting the Current Date and Time**\n",
        "\n",
        "from datetime import datetime\n",
        "\n",
        "now = datetime.now()\n",
        "print(now)  # Output: current date and time\n"
      ]
    },
    {
      "cell_type": "code",
      "source": [
        "\n",
        "### 2. **Formatting Date and Time**\n",
        "\n",
        "from datetime import datetime\n",
        "\n",
        "now = datetime.now()\n",
        "formatted = now.strftime('%Y-%m-%d %H:%M:%S')\n",
        "print(formatted)  # Output: formatted date and time, e.g., '2024-08-14 12:30:45'\n"
      ],
      "metadata": {
        "colab": {
          "base_uri": "https://localhost:8080/"
        },
        "id": "StckkSA8If-Q",
        "outputId": "10877682-8ee1-49bb-85a8-eec0eaf7133c"
      },
      "execution_count": 2,
      "outputs": [
        {
          "output_type": "stream",
          "name": "stdout",
          "text": [
            "2024-08-14 18:24:26\n"
          ]
        }
      ]
    },
    {
      "cell_type": "code",
      "source": [
        "### 3. **Parsing Date and Time from String**\n",
        "\n",
        "from datetime import datetime\n",
        "\n",
        "date_string = '2024-08-14 12:30:45'\n",
        "parsed_date = datetime.strptime(date_string, '%Y-%m-%d %H:%M:%S')\n",
        "print(parsed_date)  # Output: 2024-08-14 12:30:45\n"
      ],
      "metadata": {
        "colab": {
          "base_uri": "https://localhost:8080/"
        },
        "id": "-1SglAo-IoTk",
        "outputId": "425f0cac-7316-4ff3-9600-baa311648e84"
      },
      "execution_count": 3,
      "outputs": [
        {
          "output_type": "stream",
          "name": "stdout",
          "text": [
            "2024-08-14 12:30:45\n"
          ]
        }
      ]
    },
    {
      "cell_type": "code",
      "source": [
        "### 4. **Getting Current Date**\n",
        "\n",
        "from datetime import date\n",
        "\n",
        "today = date.today()\n",
        "print(today)  # Output: current date, e.g., '2024-08-14'"
      ],
      "metadata": {
        "colab": {
          "base_uri": "https://localhost:8080/"
        },
        "id": "i-KgKedpIs5f",
        "outputId": "6606e1c2-4b44-4a0c-990e-a0b3fd1b161e"
      },
      "execution_count": 4,
      "outputs": [
        {
          "output_type": "stream",
          "name": "stdout",
          "text": [
            "2024-08-14\n"
          ]
        }
      ]
    },
    {
      "cell_type": "code",
      "source": [
        "### 5. **Calculating Date Difference**\n",
        "\n",
        "from datetime import date\n",
        "\n",
        "date1 = date(2024, 8, 14)\n",
        "date2 = date(2024, 8, 1)\n",
        "delta = date1 - date2\n",
        "print(delta.days)  # Output: 13\n"
      ],
      "metadata": {
        "colab": {
          "base_uri": "https://localhost:8080/"
        },
        "id": "nueRWX2NIw6H",
        "outputId": "adeec117-20f9-4a25-9e22-ef8f14e7ce76"
      },
      "execution_count": 5,
      "outputs": [
        {
          "output_type": "stream",
          "name": "stdout",
          "text": [
            "13\n"
          ]
        }
      ]
    },
    {
      "cell_type": "code",
      "source": [
        "\n",
        "### 6. **Adding Days to a Date**\n",
        "\n",
        "from datetime import timedelta, date\n",
        "\n",
        "today = date.today()\n",
        "future_date = today + timedelta(days=10)\n",
        "print(future_date)  # Output: date 10 days from today"
      ],
      "metadata": {
        "colab": {
          "base_uri": "https://localhost:8080/"
        },
        "id": "9eStHNmTI033",
        "outputId": "2408c02a-e4fb-40d5-c437-4169dac13134"
      },
      "execution_count": 6,
      "outputs": [
        {
          "output_type": "stream",
          "name": "stdout",
          "text": [
            "2024-08-24\n"
          ]
        }
      ]
    },
    {
      "cell_type": "code",
      "source": [
        "### 7. **Subtracting Days from a Date**\n",
        "\n",
        "from datetime import timedelta, date\n",
        "\n",
        "today = date.today()\n",
        "past_date = today - timedelta(days=10)\n",
        "print(past_date)  # Output: date 10 days before today\n"
      ],
      "metadata": {
        "colab": {
          "base_uri": "https://localhost:8080/"
        },
        "id": "wccxfrKrI5Jt",
        "outputId": "e37549ba-609a-40d8-fdbc-83844a9009d1"
      },
      "execution_count": 7,
      "outputs": [
        {
          "output_type": "stream",
          "name": "stdout",
          "text": [
            "2024-08-04\n"
          ]
        }
      ]
    },
    {
      "cell_type": "code",
      "source": [
        "### 8. **Getting the Current Time**\n",
        "\n",
        "from datetime import datetime\n",
        "\n",
        "now = datetime.now().time()\n",
        "print(now)  # Output: current time, e.g., '12:30:45'\n"
      ],
      "metadata": {
        "colab": {
          "base_uri": "https://localhost:8080/"
        },
        "id": "URGw4GIcI8Qt",
        "outputId": "4447a4de-53af-4891-e6d2-9b21de10285e"
      },
      "execution_count": 8,
      "outputs": [
        {
          "output_type": "stream",
          "name": "stdout",
          "text": [
            "18:26:07.107419\n"
          ]
        }
      ]
    },
    {
      "cell_type": "code",
      "source": [
        "### 9. **Formatting Time**\n",
        "\n",
        "from datetime import datetime\n",
        "\n",
        "now = datetime.now().time()\n",
        "formatted_time = now.strftime('%H:%M:%S')\n",
        "print(formatted_time)  # Output: formatted time, e.g., '12:30:45'"
      ],
      "metadata": {
        "colab": {
          "base_uri": "https://localhost:8080/"
        },
        "id": "gSrsijgNI_qq",
        "outputId": "c8662230-2067-4c34-e5b0-240952376d53"
      },
      "execution_count": 9,
      "outputs": [
        {
          "output_type": "stream",
          "name": "stdout",
          "text": [
            "18:26:20\n"
          ]
        }
      ]
    },
    {
      "cell_type": "code",
      "source": [
        "### 10. **Getting the Day of the Week**\n",
        "\n",
        "from datetime import datetime\n",
        "\n",
        "now = datetime.now()\n",
        "day_of_week = now.strftime('%A')\n",
        "print(day_of_week)  # Output: name of the current day of the week, e.g., 'Wednesday'\n"
      ],
      "metadata": {
        "colab": {
          "base_uri": "https://localhost:8080/"
        },
        "id": "EX2W-SlhJEpT",
        "outputId": "0d9e5567-128c-4550-c9d3-a7fb356f0100"
      },
      "execution_count": 10,
      "outputs": [
        {
          "output_type": "stream",
          "name": "stdout",
          "text": [
            "Wednesday\n"
          ]
        }
      ]
    },
    {
      "cell_type": "code",
      "source": [
        "### 11. **Getting the Week Number**\n",
        "\n",
        "from datetime import datetime\n",
        "\n",
        "now = datetime.now()\n",
        "week_number = now.isocalendar()[1]\n",
        "print(week_number)  # Output: current week number of the year\n"
      ],
      "metadata": {
        "colab": {
          "base_uri": "https://localhost:8080/"
        },
        "id": "kf485UUFJHrr",
        "outputId": "e574b128-bbcc-4d16-be18-5622e5ec06c4"
      },
      "execution_count": 11,
      "outputs": [
        {
          "output_type": "stream",
          "name": "stdout",
          "text": [
            "33\n"
          ]
        }
      ]
    },
    {
      "cell_type": "code",
      "source": [
        "### 12. **Getting the Month Name**\n",
        "\n",
        "from datetime import datetime\n",
        "\n",
        "now = datetime.now()\n",
        "month_name = now.strftime('%B')\n",
        "print(month_name)  # Output: name of the current month, e.g., 'August'"
      ],
      "metadata": {
        "colab": {
          "base_uri": "https://localhost:8080/"
        },
        "id": "bxJGmNccJLIs",
        "outputId": "7c36892b-66c1-4de7-f13d-0193557b1fbd"
      },
      "execution_count": 12,
      "outputs": [
        {
          "output_type": "stream",
          "name": "stdout",
          "text": [
            "August\n"
          ]
        }
      ]
    },
    {
      "cell_type": "code",
      "source": [
        "### 13. **Creating a Specific Date and Time**\n",
        "\n",
        "from datetime import datetime\n",
        "\n",
        "specific_datetime = datetime(2024, 8, 14, 12, 30, 45)\n",
        "print(specific_datetime)  # Output: 2024-08-14 12:30:45\n"
      ],
      "metadata": {
        "colab": {
          "base_uri": "https://localhost:8080/"
        },
        "id": "RZysgAPIJOCM",
        "outputId": "857a2538-a0db-4eac-ea37-43a1042b4df9"
      },
      "execution_count": 13,
      "outputs": [
        {
          "output_type": "stream",
          "name": "stdout",
          "text": [
            "2024-08-14 12:30:45\n"
          ]
        }
      ]
    },
    {
      "cell_type": "code",
      "source": [
        "### 14. **Converting to Timestamp**\n",
        "\n",
        "from datetime import datetime\n",
        "\n",
        "now = datetime.now()\n",
        "timestamp = now.timestamp()\n",
        "print(timestamp)  # Output: timestamp in seconds since epoch"
      ],
      "metadata": {
        "colab": {
          "base_uri": "https://localhost:8080/"
        },
        "id": "xE4ut0D0JRvp",
        "outputId": "23b62686-a187-4573-851a-e9d894a57719"
      },
      "execution_count": 15,
      "outputs": [
        {
          "output_type": "stream",
          "name": "stdout",
          "text": [
            "1723660101.402515\n"
          ]
        }
      ]
    },
    {
      "cell_type": "code",
      "source": [
        "### 15. **Converting Timestamp to DateTime**\n",
        "\n",
        "from datetime import datetime\n",
        "\n",
        "timestamp = 1692007245  # Example timestamp\n",
        "date_time = datetime.fromtimestamp(timestamp)\n",
        "print(date_time)  # Output: datetime corresponding to the timestamp"
      ],
      "metadata": {
        "colab": {
          "base_uri": "https://localhost:8080/"
        },
        "id": "zWKbStCXJWlw",
        "outputId": "98f60a7c-c4f8-438b-ca61-1c8093446685"
      },
      "execution_count": 14,
      "outputs": [
        {
          "output_type": "stream",
          "name": "stdout",
          "text": [
            "2023-08-14 10:00:45\n"
          ]
        }
      ]
    }
  ]
}