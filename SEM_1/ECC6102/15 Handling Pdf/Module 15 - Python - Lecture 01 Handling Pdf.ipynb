{
  "nbformat": 4,
  "nbformat_minor": 0,
  "metadata": {
    "colab": {
      "provenance": []
    },
    "kernelspec": {
      "name": "python3",
      "display_name": "Python 3"
    },
    "language_info": {
      "name": "python"
    }
  },
  "cells": [
    {
      "cell_type": "code",
      "source": [
        "!pip install PyPDF2 pdfplumber reportlab pymupdf pandas\n"
      ],
      "metadata": {
        "colab": {
          "base_uri": "https://localhost:8080/"
        },
        "id": "h3G_shR31ka5",
        "outputId": "3b6d6131-c676-4e4e-ae71-fb8733e0a6a4"
      },
      "execution_count": 5,
      "outputs": [
        {
          "output_type": "stream",
          "name": "stdout",
          "text": [
            "Requirement already satisfied: PyPDF2 in /usr/local/lib/python3.10/dist-packages (3.0.1)\n",
            "Requirement already satisfied: pdfplumber in /usr/local/lib/python3.10/dist-packages (0.11.3)\n",
            "Requirement already satisfied: reportlab in /usr/local/lib/python3.10/dist-packages (4.2.2)\n",
            "Requirement already satisfied: pymupdf in /usr/local/lib/python3.10/dist-packages (1.24.9)\n",
            "Requirement already satisfied: pandas in /usr/local/lib/python3.10/dist-packages (2.1.4)\n",
            "Requirement already satisfied: pdfminer.six==20231228 in /usr/local/lib/python3.10/dist-packages (from pdfplumber) (20231228)\n",
            "Requirement already satisfied: Pillow>=9.1 in /usr/local/lib/python3.10/dist-packages (from pdfplumber) (9.4.0)\n",
            "Requirement already satisfied: pypdfium2>=4.18.0 in /usr/local/lib/python3.10/dist-packages (from pdfplumber) (4.30.0)\n",
            "Requirement already satisfied: charset-normalizer>=2.0.0 in /usr/local/lib/python3.10/dist-packages (from pdfminer.six==20231228->pdfplumber) (3.3.2)\n",
            "Requirement already satisfied: cryptography>=36.0.0 in /usr/local/lib/python3.10/dist-packages (from pdfminer.six==20231228->pdfplumber) (42.0.8)\n",
            "Requirement already satisfied: chardet in /usr/local/lib/python3.10/dist-packages (from reportlab) (5.2.0)\n",
            "Requirement already satisfied: PyMuPDFb==1.24.9 in /usr/local/lib/python3.10/dist-packages (from pymupdf) (1.24.9)\n",
            "Requirement already satisfied: numpy<2,>=1.22.4 in /usr/local/lib/python3.10/dist-packages (from pandas) (1.26.4)\n",
            "Requirement already satisfied: python-dateutil>=2.8.2 in /usr/local/lib/python3.10/dist-packages (from pandas) (2.8.2)\n",
            "Requirement already satisfied: pytz>=2020.1 in /usr/local/lib/python3.10/dist-packages (from pandas) (2024.1)\n",
            "Requirement already satisfied: tzdata>=2022.1 in /usr/local/lib/python3.10/dist-packages (from pandas) (2024.1)\n",
            "Requirement already satisfied: six>=1.5 in /usr/local/lib/python3.10/dist-packages (from python-dateutil>=2.8.2->pandas) (1.16.0)\n",
            "Requirement already satisfied: cffi>=1.12 in /usr/local/lib/python3.10/dist-packages (from cryptography>=36.0.0->pdfminer.six==20231228->pdfplumber) (1.17.0)\n",
            "Requirement already satisfied: pycparser in /usr/local/lib/python3.10/dist-packages (from cffi>=1.12->cryptography>=36.0.0->pdfminer.six==20231228->pdfplumber) (2.22)\n"
          ]
        }
      ]
    },
    {
      "cell_type": "code",
      "execution_count": 9,
      "metadata": {
        "colab": {
          "base_uri": "https://localhost:8080/"
        },
        "id": "ruf4kKwuv1jq",
        "outputId": "b8d8e0d4-1b62-44fd-fda7-67d379305661"
      },
      "outputs": [
        {
          "output_type": "stream",
          "name": "stdout",
          "text": [
            "\n",
            "\n",
            "\n"
          ]
        }
      ],
      "source": [
        "import PyPDF2\n",
        "\n",
        "with open('file.pdf', 'rb') as file:\n",
        "    reader = PyPDF2.PdfReader(file)  # Use PdfReader instead of PdfFileReader\n",
        "    for page_num in range(len(reader.pages)):  # Use len(reader.pages) instead of reader.numPages\n",
        "        page = reader.pages[page_num]\n",
        "        print(page.extract_text())\n"
      ]
    },
    {
      "cell_type": "code",
      "source": [
        "import PyPDF2\n",
        "\n",
        "pdf_writer = PyPDF2.PdfWriter()  # Use PdfWriter instead of PdfFileWriter\n",
        "pdf_writer.add_blank_page(width=72, height=72)  # Use add_blank_page instead of addBlankPage\n",
        "\n",
        "with open('output.pdf', 'wb') as file:\n",
        "    pdf_writer.write(file)\n"
      ],
      "metadata": {
        "id": "lk--A-4oy8_Y"
      },
      "execution_count": 13,
      "outputs": []
    },
    {
      "cell_type": "code",
      "source": [
        "import PyPDF2\n",
        "\n",
        "pdf_writer = PyPDF2.PdfWriter()  # Use PdfWriter instead of PdfFileWriter\n",
        "\n",
        "for pdf in ['file1.pdf', 'file2.pdf']:\n",
        "    pdf_reader = PyPDF2.PdfReader(pdf)  # Use PdfReader instead of PdfFileReader\n",
        "    for page_num in range(len(pdf_reader.pages)):  # Use len(pdf_reader.pages) instead of pdf_reader.numPages\n",
        "        page = pdf_reader.pages[page_num]  # Access the pages using pdf_reader.pages[page_num]\n",
        "        pdf_writer.add_page(page)  # Use add_page instead of addPage\n",
        "\n",
        "with open('merged.pdf', 'wb') as file:\n",
        "    pdf_writer.write(file)\n"
      ],
      "metadata": {
        "id": "KJLEvba-zGha"
      },
      "execution_count": 16,
      "outputs": []
    },
    {
      "cell_type": "code",
      "source": [
        "import PyPDF2\n",
        "\n",
        "pdf_reader = PyPDF2.PdfReader('file.pdf')  # Use PdfReader instead of PdfFileReader\n",
        "\n",
        "for page_num in range(len(pdf_reader.pages)):  # Use len(pdf_reader.pages) instead of pdf_reader.numPages\n",
        "    pdf_writer = PyPDF2.PdfWriter()  # Use PdfWriter instead of PdfFileWriter\n",
        "    pdf_writer.add_page(pdf_reader.pages[page_num])  # Use add_page instead of addPage and access pages using pdf_reader.pages[page_num]\n",
        "    with open(f'page_{page_num + 1}.pdf', 'wb') as file:\n",
        "        pdf_writer.write(file)\n"
      ],
      "metadata": {
        "id": "1_OZrDQVzQ_U"
      },
      "execution_count": 20,
      "outputs": []
    },
    {
      "cell_type": "code",
      "source": [
        "import PyPDF2\n",
        "\n",
        "with open('file.pdf', 'rb') as file:\n",
        "    reader = PyPDF2.PdfReader(file)  # Use PdfReader instead of PdfFileReader\n",
        "    num_pages = len(reader.pages)  # Get the number of pages\n",
        "    page_index = 1  # Page numbers start from 0\n",
        "\n",
        "    if page_index < num_pages:\n",
        "        page = reader.pages[page_index]  # Access the page\n",
        "        print(page.extract_text())\n",
        "    else:\n",
        "        print(f\"Error: Page index {page_index} is out of range. The PDF has {num_pages} pages.\")\n"
      ],
      "metadata": {
        "colab": {
          "base_uri": "https://localhost:8080/"
        },
        "id": "RL-aCT32zRhA",
        "outputId": "a2f895bb-9169-4d91-828f-6b029f94253b"
      },
      "execution_count": 23,
      "outputs": [
        {
          "output_type": "stream",
          "name": "stdout",
          "text": [
            "Error: Page index 1 is out of range. The PDF has 1 pages.\n"
          ]
        }
      ]
    },
    {
      "cell_type": "code",
      "source": [
        "import PyPDF2\n",
        "\n",
        "with open('file.pdf', 'rb') as file:\n",
        "    reader = PyPDF2.PdfReader(file)  # Use PdfReader instead of PdfFileReader\n",
        "    pdf_writer = PyPDF2.PdfWriter()  # Use PdfWriter instead of PdfFileWriter\n",
        "    page = reader.pages[0].rotate(90)  # Use rotate instead of rotateClockwise\n",
        "    pdf_writer.add_page(page)  # Use add_page instead of addPage\n",
        "\n",
        "    with open('rotated.pdf', 'wb') as output:\n",
        "        pdf_writer.write(output)\n"
      ],
      "metadata": {
        "id": "G-zfKwzPzRzt"
      },
      "execution_count": 24,
      "outputs": []
    },
    {
      "cell_type": "code",
      "source": [
        "import PyPDF2\n",
        "\n",
        "with open('file.pdf', 'rb') as file, open('watermark.pdf', 'rb') as watermark_file:\n",
        "    reader = PyPDF2.PdfReader(file)  # Use PdfReader instead of PdfFileReader\n",
        "    watermark = PyPDF2.PdfReader(watermark_file)  # Use PdfReader instead of PdfFileReader\n",
        "    pdf_writer = PyPDF2.PdfWriter()  # Use PdfWriter instead of PdfFileWriter\n",
        "\n",
        "    for page_num in range(len(reader.pages)):  # Use len(reader.pages) instead of reader.numPages\n",
        "        page = reader.pages[page_num]  # Use reader.pages[page_num] instead of reader.getPage(page_num)\n",
        "        page.merge_page(watermark.pages[0])  # Use watermark.pages[0] instead of watermark.getPage(0)\n",
        "        pdf_writer.add_page(page)  # Use add_page instead of addPage\n",
        "\n",
        "    with open('watermarked.pdf', 'wb') as output:\n",
        "        pdf_writer.write(output)\n"
      ],
      "metadata": {
        "id": "K2GCAoVFzR6j"
      },
      "execution_count": 25,
      "outputs": []
    },
    {
      "cell_type": "code",
      "source": [
        "import PyPDF2\n",
        "\n",
        "with open('file.pdf', 'rb') as file:\n",
        "    reader = PyPDF2.PdfReader(file)  # Use PdfReader instead of PdfFileReader\n",
        "    info = reader.metadata  # Use metadata instead of getDocumentInfo\n",
        "    print(info)\n"
      ],
      "metadata": {
        "colab": {
          "base_uri": "https://localhost:8080/"
        },
        "id": "qaMhZOZlzSAJ",
        "outputId": "e2a5c655-2016-4842-c653-01141015277e"
      },
      "execution_count": 26,
      "outputs": [
        {
          "output_type": "stream",
          "name": "stdout",
          "text": [
            "{'/Producer': 'PyPDF2'}\n"
          ]
        }
      ]
    },
    {
      "cell_type": "code",
      "source": [
        "import PyPDF2\n",
        "\n",
        "with open('file.pdf', 'rb') as file:\n",
        "    reader = PyPDF2.PdfReader(file)\n",
        "    writer = PyPDF2.PdfWriter()\n",
        "    writer.add_page(reader.pages[0])  # Use reader.pages[0] instead of reader.getPage(0)\n",
        "\n",
        "    writer.add_metadata({\n",
        "        '/Title': 'New Title',\n",
        "        '/Author': 'Author Name'\n",
        "    })\n",
        "\n",
        "    with open('output.pdf', 'wb') as output:\n",
        "        writer.write(output)\n"
      ],
      "metadata": {
        "id": "NQbd0GFZzSKI"
      },
      "execution_count": 29,
      "outputs": []
    },
    {
      "cell_type": "code",
      "source": [
        "import PyPDF2\n",
        "\n",
        "with open('file.pdf', 'rb') as file:\n",
        "    reader = PyPDF2.PdfReader(file)  # Use PdfReader instead of PdfFileReader\n",
        "    text = ''\n",
        "    for page_num in range(min(3, len(reader.pages))):  # Check if there are at least 3 pages\n",
        "        page = reader.pages[page_num]  # Use reader.pages[page_num] instead of reader.getPage(page_num)\n",
        "        text += page.extract_text()\n",
        "\n",
        "    print(text)\n"
      ],
      "metadata": {
        "colab": {
          "base_uri": "https://localhost:8080/"
        },
        "id": "jaLUrrN8zSPb",
        "outputId": "60db487b-d46b-4aed-e177-27928f0c582e"
      },
      "execution_count": 30,
      "outputs": [
        {
          "output_type": "stream",
          "name": "stdout",
          "text": [
            "\n"
          ]
        }
      ]
    },
    {
      "cell_type": "code",
      "source": [
        "import pdfplumber\n",
        "\n",
        "with pdfplumber.open('file.pdf') as pdf:\n",
        "    for page in pdf.pages:\n",
        "        print(page.extract_text())"
      ],
      "metadata": {
        "colab": {
          "base_uri": "https://localhost:8080/"
        },
        "id": "ggbjRvO4zSS1",
        "outputId": "a0808f86-fcc2-4730-89b3-cb853c7174b1"
      },
      "execution_count": 31,
      "outputs": [
        {
          "output_type": "stream",
          "name": "stdout",
          "text": [
            "\n"
          ]
        }
      ]
    },
    {
      "cell_type": "code",
      "source": [
        "import pdfplumber\n",
        "\n",
        "with pdfplumber.open('file.pdf') as pdf:\n",
        "    for page in pdf.pages:\n",
        "        tables = page.extract_tables()\n",
        "        for table in tables:\n",
        "            for row in table:\n",
        "                print(row)\n"
      ],
      "metadata": {
        "id": "t1VSOf0-zSXe"
      },
      "execution_count": 32,
      "outputs": []
    },
    {
      "cell_type": "code",
      "source": [
        "import pdfplumber\n",
        "\n",
        "with pdfplumber.open('file.pdf') as pdf:\n",
        "    page = pdf.pages[0]  # First page\n",
        "    print(page.extract_text())"
      ],
      "metadata": {
        "colab": {
          "base_uri": "https://localhost:8080/"
        },
        "id": "qQyyZac3zSyb",
        "outputId": "60f0cbf7-f43e-404e-cac6-8f68423c3824"
      },
      "execution_count": 33,
      "outputs": [
        {
          "output_type": "stream",
          "name": "stdout",
          "text": [
            "\n"
          ]
        }
      ]
    },
    {
      "cell_type": "code",
      "source": [
        "import pdfplumber\n",
        "import csv\n",
        "\n",
        "with pdfplumber.open('file.pdf') as pdf:\n",
        "    page = pdf.pages[0]  # First page\n",
        "    tables = page.extract_tables()\n",
        "\n",
        "    with open('output.csv', 'w', newline='') as file:\n",
        "        writer = csv.writer(file)\n",
        "        for table in tables:\n",
        "            writer.writerows(table)"
      ],
      "metadata": {
        "id": "WKi5-nxK0At0"
      },
      "execution_count": 34,
      "outputs": []
    },
    {
      "cell_type": "code",
      "source": [
        "import pdfplumber\n",
        "\n",
        "with pdfplumber.open('file.pdf') as pdf:\n",
        "    print(pdf.metadata)"
      ],
      "metadata": {
        "colab": {
          "base_uri": "https://localhost:8080/"
        },
        "id": "wbaPiFdr0Awj",
        "outputId": "b7b0f809-53c8-4945-9d46-486f3da9b7ef"
      },
      "execution_count": 35,
      "outputs": [
        {
          "output_type": "stream",
          "name": "stdout",
          "text": [
            "{'Producer': 'PyPDF2'}\n"
          ]
        }
      ]
    },
    {
      "cell_type": "code",
      "source": [
        "import pdfplumber\n",
        "\n",
        "with pdfplumber.open('file.pdf') as pdf:\n",
        "    print(f'Total Pages: {len(pdf.pages)}')"
      ],
      "metadata": {
        "colab": {
          "base_uri": "https://localhost:8080/"
        },
        "id": "WwS3G34t0AzR",
        "outputId": "a49f0913-f553-4e5d-877e-ccd2c53dd096"
      },
      "execution_count": 36,
      "outputs": [
        {
          "output_type": "stream",
          "name": "stdout",
          "text": [
            "Total Pages: 1\n"
          ]
        }
      ]
    },
    {
      "cell_type": "code",
      "source": [
        "import pdfplumber\n",
        "\n",
        "with pdfplumber.open('file.pdf') as pdf:\n",
        "    for page in pdf.pages:\n",
        "        text = page.extract_text()\n",
        "        print(text)\n",
        "        for image in page.images:\n",
        "            print(image)"
      ],
      "metadata": {
        "colab": {
          "base_uri": "https://localhost:8080/"
        },
        "id": "WrnD-p6W0A4l",
        "outputId": "12e8dd4f-01f5-40c2-8da1-33e97f37f4cc"
      },
      "execution_count": 37,
      "outputs": [
        {
          "output_type": "stream",
          "name": "stdout",
          "text": [
            "\n"
          ]
        }
      ]
    },
    {
      "cell_type": "code",
      "source": [
        "import pdfplumber\n",
        "\n",
        "with pdfplumber.open('file.pdf') as pdf:\n",
        "    for page in pdf.pages:\n",
        "        text = page.extract_text()\n",
        "        if 'keyword' in text:\n",
        "            print(text)"
      ],
      "metadata": {
        "id": "IYVoK-iq0A7a"
      },
      "execution_count": 38,
      "outputs": []
    },
    {
      "cell_type": "code",
      "source": [
        "import pdfplumber\n",
        "\n",
        "with pdfplumber.open('file.pdf') as pdf:\n",
        "    for page in pdf.pages:\n",
        "        print(f\"Page size: {page.width}x{page.height}\")"
      ],
      "metadata": {
        "colab": {
          "base_uri": "https://localhost:8080/"
        },
        "id": "vLciaa7M0A97",
        "outputId": "1b4978fc-fd0e-412c-a7d7-77c6450a0536"
      },
      "execution_count": 39,
      "outputs": [
        {
          "output_type": "stream",
          "name": "stdout",
          "text": [
            "Page size: 72x72\n"
          ]
        }
      ]
    },
    {
      "cell_type": "code",
      "source": [
        "import pdfplumber\n",
        "import pandas as pd\n",
        "\n",
        "with pdfplumber.open('file.pdf') as pdf:\n",
        "    page = pdf.pages[0]  # Access the first page\n",
        "    table = page.extract_table()  # Extract table from the page\n",
        "\n",
        "    if table:\n",
        "        # Create a DataFrame from the table data\n",
        "        df = pd.DataFrame(table[1:], columns=table[0])\n",
        "        print(df)\n",
        "    else:\n",
        "        print(\"No table found on the page.\")\n"
      ],
      "metadata": {
        "colab": {
          "base_uri": "https://localhost:8080/"
        },
        "id": "RziB6cUz0BBE",
        "outputId": "0e9cad59-746f-461a-d01f-64c1c8d35d1f"
      },
      "execution_count": 45,
      "outputs": [
        {
          "output_type": "stream",
          "name": "stdout",
          "text": [
            "No table found on the page.\n"
          ]
        }
      ]
    },
    {
      "cell_type": "code",
      "source": [
        "\n",
        "from reportlab.lib.pagesizes import letter\n",
        "from reportlab.pdfgen import canvas\n",
        "\n",
        "c = canvas.Canvas('file.pdf', pagesize=letter)\n",
        "c.drawString(100, 750, \"Hello World\")\n",
        "c.save()"
      ],
      "metadata": {
        "id": "sGCdthOm0BEO"
      },
      "execution_count": 41,
      "outputs": []
    },
    {
      "cell_type": "code",
      "source": [
        "from reportlab.lib.pagesizes import letter\n",
        "from reportlab.pdfgen import canvas\n",
        "\n",
        "c = canvas.Canvas('file.pdf', pagesize=letter)\n",
        "for i in range(1, 6):\n",
        "    c.drawString(100, 750, f\"Page {i}\")\n",
        "    c.showPage()\n",
        "c.save()"
      ],
      "metadata": {
        "id": "agc1ouxX0BHp"
      },
      "execution_count": 44,
      "outputs": []
    },
    {
      "cell_type": "code",
      "source": [
        "from reportlab.lib.pagesizes import letter\n",
        "from reportlab.pdfgen import canvas\n",
        "\n",
        "c = canvas.Canvas('file.pdf', pagesize=letter)\n",
        "c.drawString(100, 750, \"Hello World\")\n",
        "c.rect(50, 700, 200, 50, fill=1)\n",
        "c.save()\n"
      ],
      "metadata": {
        "id": "aZNW5qS50jUi"
      },
      "execution_count": 43,
      "outputs": []
    },
    {
      "cell_type": "code",
      "source": [
        "from reportlab.lib.pagesizes import letter\n",
        "from reportlab.pdfgen import canvas\n",
        "\n",
        "c = canvas.Canvas('file.pdf', pagesize=letter)\n",
        "c.drawImage('image.png', 100, 500)\n",
        "c.save()"
      ],
      "metadata": {
        "id": "fcsTUEY_0jYD"
      },
      "execution_count": 46,
      "outputs": []
    },
    {
      "cell_type": "code",
      "source": [
        "# cell 25\n",
        "from reportlab.lib.pagesizes import letter\n",
        "from reportlab.platypus import SimpleDocTemplate, Table, TableStyle\n",
        "from reportlab.lib import colors\n",
        "\n",
        "data = [['Name', 'Age'], ['Alice', 30], ['Bob', 25]]\n",
        "table = Table(data)\n",
        "table.setStyle(TableStyle([('BACKGROUND', (0, 0), (-1, 0), colors.grey),\n",
        "                           ('TEXTCOLOR', (0, 0), (-1, 0), colors.whitesmoke)]))\n",
        "\n",
        "doc = SimpleDocTemplate('table.pdf', pagesize=letter)\n",
        "doc.build([table])"
      ],
      "metadata": {
        "id": "BNUcJIGm0jos"
      },
      "execution_count": 7,
      "outputs": []
    }
  ]
}